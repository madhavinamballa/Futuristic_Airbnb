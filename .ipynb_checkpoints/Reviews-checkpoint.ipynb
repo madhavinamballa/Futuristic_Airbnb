{
 "cells": [
  {
   "cell_type": "markdown",
   "metadata": {},
   "source": [
    "# <ins> Reviews Analysis </ins>"
   ]
  },
  {
   "cell_type": "markdown",
   "metadata": {},
   "source": [
    "<hr> </hr>"
   ]
  },
  {
   "cell_type": "markdown",
   "metadata": {},
   "source": [
    "<b> We have used the Reviews Dataset for knowing the Visitor Trends based on reviews. </b>"
   ]
  },
  {
   "cell_type": "markdown",
   "metadata": {},
   "source": [
    "Dataset Used : <reviews.csv> --> June 2019 Scrapped Data"
   ]
  },
  {
   "cell_type": "code",
   "execution_count": 94,
   "metadata": {},
   "outputs": [],
   "source": [
    "#Importing Dependencies\n",
    "import pandas as pd\n",
    "import numpy as np\n",
    "import matplotlib.pyplot as plt\n",
    "import requests\n",
    "import time\n",
    "import json\n",
    "import gmaps\n",
    "import datetime\n",
    "#from datetime import month"
   ]
  },
  {
   "cell_type": "code",
   "execution_count": 95,
   "metadata": {},
   "outputs": [],
   "source": [
    "#Reading a file and storing into dataframe\n",
    "review_summary = pd.read_csv('../Dataset/reviews_062019.csv')"
   ]
  },
  {
   "cell_type": "code",
   "execution_count": 96,
   "metadata": {},
   "outputs": [
    {
     "data": {
      "text/plain": [
       "listing_id        int64\n",
       "id                int64\n",
       "date             object\n",
       "reviewer_id       int64\n",
       "reviewer_name    object\n",
       "comments         object\n",
       "dtype: object"
      ]
     },
     "execution_count": 96,
     "metadata": {},
     "output_type": "execute_result"
    }
   ],
   "source": [
    "review_summary.dtypes"
   ]
  },
  {
   "cell_type": "code",
   "execution_count": 97,
   "metadata": {},
   "outputs": [],
   "source": [
    "def mapper(month):\n",
    "    date = datetime.datetime(2000,month,1)\n",
    "    return date.strftime('%b')\n",
    "#function to change month name\n",
    "   "
   ]
  },
  {
   "cell_type": "code",
   "execution_count": 98,
   "metadata": {},
   "outputs": [],
   "source": [
    "review_summary['date'] = pd.to_datetime(review_summary['date'])\n",
    "review_summary['year'] = review_summary['date'].dt.year\n",
    "review_summary['month'] = review_summary['date'].dt.month\n",
    "review_summary['day'] = review_summary['date'].dt.day"
   ]
  },
  {
   "cell_type": "code",
   "execution_count": 99,
   "metadata": {},
   "outputs": [
    {
     "data": {
      "text/plain": [
       "0          7\n",
       "1         19\n",
       "2         31\n",
       "3         20\n",
       "4         18\n",
       "          ..\n",
       "467545     7\n",
       "467546     6\n",
       "467547     6\n",
       "467548     6\n",
       "467549     7\n",
       "Name: day, Length: 467550, dtype: int32"
      ]
     },
     "execution_count": 99,
     "metadata": {},
     "output_type": "execute_result"
    }
   ],
   "source": [
    "review_summary['year'].astype(int)\n",
    "#review_summary['date'].astype(int)\n",
    "review_summary['month'].astype(int)\n",
    "review_summary['day'].astype(int)"
   ]
  },
  {
   "cell_type": "code",
   "execution_count": 100,
   "metadata": {},
   "outputs": [
    {
     "data": {
      "text/html": [
       "<div>\n",
       "<style scoped>\n",
       "    .dataframe tbody tr th:only-of-type {\n",
       "        vertical-align: middle;\n",
       "    }\n",
       "\n",
       "    .dataframe tbody tr th {\n",
       "        vertical-align: top;\n",
       "    }\n",
       "\n",
       "    .dataframe thead th {\n",
       "        text-align: right;\n",
       "    }\n",
       "</style>\n",
       "<table border=\"1\" class=\"dataframe\">\n",
       "  <thead>\n",
       "    <tr style=\"text-align: right;\">\n",
       "      <th></th>\n",
       "      <th>listing_id</th>\n",
       "      <th>id</th>\n",
       "      <th>date</th>\n",
       "      <th>reviewer_id</th>\n",
       "      <th>reviewer_name</th>\n",
       "      <th>comments</th>\n",
       "      <th>year</th>\n",
       "      <th>month</th>\n",
       "      <th>day</th>\n",
       "    </tr>\n",
       "  </thead>\n",
       "  <tbody>\n",
       "    <tr>\n",
       "      <td>150</td>\n",
       "      <td>3176</td>\n",
       "      <td>4283</td>\n",
       "      <td>2009-06-20</td>\n",
       "      <td>21475</td>\n",
       "      <td>Milan</td>\n",
       "      <td>excellent stay, i would highly recommend it. a...</td>\n",
       "      <td>2009</td>\n",
       "      <td>6</td>\n",
       "      <td>20</td>\n",
       "    </tr>\n",
       "    <tr>\n",
       "      <td>321</td>\n",
       "      <td>7071</td>\n",
       "      <td>7726</td>\n",
       "      <td>2009-08-18</td>\n",
       "      <td>30084</td>\n",
       "      <td>Ben</td>\n",
       "      <td>I could not have asked for a better place to s...</td>\n",
       "      <td>2009</td>\n",
       "      <td>8</td>\n",
       "      <td>18</td>\n",
       "    </tr>\n",
       "    <tr>\n",
       "      <td>322</td>\n",
       "      <td>7071</td>\n",
       "      <td>18259</td>\n",
       "      <td>2009-11-25</td>\n",
       "      <td>50988</td>\n",
       "      <td>Tarnia</td>\n",
       "      <td>This room is really lovely!  It is quiet, comf...</td>\n",
       "      <td>2009</td>\n",
       "      <td>11</td>\n",
       "      <td>25</td>\n",
       "    </tr>\n",
       "    <tr>\n",
       "      <td>631</td>\n",
       "      <td>17904</td>\n",
       "      <td>26752</td>\n",
       "      <td>2010-02-18</td>\n",
       "      <td>73252</td>\n",
       "      <td>Thomas</td>\n",
       "      <td>It was a very calm, cute and warm studio, clos...</td>\n",
       "      <td>2010</td>\n",
       "      <td>2</td>\n",
       "      <td>18</td>\n",
       "    </tr>\n",
       "    <tr>\n",
       "      <td>323</td>\n",
       "      <td>7071</td>\n",
       "      <td>38158</td>\n",
       "      <td>2010-04-26</td>\n",
       "      <td>96258</td>\n",
       "      <td>Maria Cristina</td>\n",
       "      <td>Staying at bright room was realy nice and conf...</td>\n",
       "      <td>2010</td>\n",
       "      <td>4</td>\n",
       "      <td>26</td>\n",
       "    </tr>\n",
       "  </tbody>\n",
       "</table>\n",
       "</div>"
      ],
      "text/plain": [
       "     listing_id     id       date  reviewer_id   reviewer_name  \\\n",
       "150        3176   4283 2009-06-20        21475           Milan   \n",
       "321        7071   7726 2009-08-18        30084             Ben   \n",
       "322        7071  18259 2009-11-25        50988          Tarnia   \n",
       "631       17904  26752 2010-02-18        73252          Thomas   \n",
       "323        7071  38158 2010-04-26        96258  Maria Cristina   \n",
       "\n",
       "                                              comments  year  month  day  \n",
       "150  excellent stay, i would highly recommend it. a...  2009      6   20  \n",
       "321  I could not have asked for a better place to s...  2009      8   18  \n",
       "322  This room is really lovely!  It is quiet, comf...  2009     11   25  \n",
       "631  It was a very calm, cute and warm studio, clos...  2010      2   18  \n",
       "323  Staying at bright room was realy nice and conf...  2010      4   26  "
      ]
     },
     "execution_count": 100,
     "metadata": {},
     "output_type": "execute_result"
    }
   ],
   "source": [
    "review_summary.sort_values(['year','month'],ascending = [True,True],axis = 0, inplace = True )\n",
    "review_summary.head()"
   ]
  },
  {
   "cell_type": "code",
   "execution_count": 101,
   "metadata": {},
   "outputs": [],
   "source": [
    "review_summary['month'] = review_summary['month'].apply(mapper)\n"
   ]
  },
  {
   "cell_type": "code",
   "execution_count": 102,
   "metadata": {},
   "outputs": [],
   "source": [
    "dropped = ['reviewer_name','comments']\n",
    "review_summary.drop(dropped,axis = 1,inplace = True)"
   ]
  },
  {
   "cell_type": "code",
   "execution_count": 103,
   "metadata": {},
   "outputs": [
    {
     "data": {
      "text/plain": [
       "2018    156059\n",
       "2017    100841\n",
       "2019     84240\n",
       "2016     63764\n",
       "2015     36561\n",
       "2014     15927\n",
       "2013      6704\n",
       "2012      2768\n",
       "2011       580\n",
       "2010       103\n",
       "2009         3\n",
       "Name: year, dtype: int64"
      ]
     },
     "execution_count": 103,
     "metadata": {},
     "output_type": "execute_result"
    }
   ],
   "source": [
    "review_summary['year'].value_counts()"
   ]
  },
  {
   "cell_type": "code",
   "execution_count": 104,
   "metadata": {},
   "outputs": [],
   "source": [
    "review_2015 =review_summary [review_summary['year'] == 2015]\n",
    "review_2016 =review_summary[review_summary['year'] == 2016] \n",
    "review_2017 = review_summary[review_summary['year'] == 2017]\n",
    "review_2018 = review_summary[review_summary['year'] == 2018]\n",
    "review_2019 = review_summary[review_summary['year'] == 2019]"
   ]
  },
  {
   "cell_type": "code",
   "execution_count": 105,
   "metadata": {},
   "outputs": [],
   "source": [
    "dropped = ['year','day','id','date','listing_id']\n",
    "review_2015.drop(dropped,axis = 1,inplace = True)\n",
    "review_2016.drop(dropped,axis = 1,inplace = True)\n",
    "review_2017.drop(dropped,axis = 1,inplace = True)\n",
    "review_2018.drop(dropped,axis = 1,inplace = True)\n",
    "review_2019.drop(dropped,axis = 1,inplace = True)"
   ]
  },
  {
   "cell_type": "code",
   "execution_count": 106,
   "metadata": {},
   "outputs": [
    {
     "name": "stderr",
     "output_type": "stream",
     "text": [
      "c:\\users\\saranya\\appdata\\local\\programs\\python\\python37-32\\lib\\site-packages\\ipykernel_launcher.py:1: SettingWithCopyWarning: \n",
      "A value is trying to be set on a copy of a slice from a DataFrame.\n",
      "Try using .loc[row_indexer,col_indexer] = value instead\n",
      "\n",
      "See the caveats in the documentation: http://pandas.pydata.org/pandas-docs/stable/user_guide/indexing.html#returning-a-view-versus-a-copy\n",
      "  \"\"\"Entry point for launching an IPython kernel.\n",
      "c:\\users\\saranya\\appdata\\local\\programs\\python\\python37-32\\lib\\site-packages\\ipykernel_launcher.py:2: SettingWithCopyWarning: \n",
      "A value is trying to be set on a copy of a slice from a DataFrame.\n",
      "Try using .loc[row_indexer,col_indexer] = value instead\n",
      "\n",
      "See the caveats in the documentation: http://pandas.pydata.org/pandas-docs/stable/user_guide/indexing.html#returning-a-view-versus-a-copy\n",
      "  \n",
      "c:\\users\\saranya\\appdata\\local\\programs\\python\\python37-32\\lib\\site-packages\\ipykernel_launcher.py:3: SettingWithCopyWarning: \n",
      "A value is trying to be set on a copy of a slice from a DataFrame.\n",
      "Try using .loc[row_indexer,col_indexer] = value instead\n",
      "\n",
      "See the caveats in the documentation: http://pandas.pydata.org/pandas-docs/stable/user_guide/indexing.html#returning-a-view-versus-a-copy\n",
      "  This is separate from the ipykernel package so we can avoid doing imports until\n",
      "c:\\users\\saranya\\appdata\\local\\programs\\python\\python37-32\\lib\\site-packages\\ipykernel_launcher.py:4: SettingWithCopyWarning: \n",
      "A value is trying to be set on a copy of a slice from a DataFrame.\n",
      "Try using .loc[row_indexer,col_indexer] = value instead\n",
      "\n",
      "See the caveats in the documentation: http://pandas.pydata.org/pandas-docs/stable/user_guide/indexing.html#returning-a-view-versus-a-copy\n",
      "  after removing the cwd from sys.path.\n",
      "c:\\users\\saranya\\appdata\\local\\programs\\python\\python37-32\\lib\\site-packages\\ipykernel_launcher.py:5: SettingWithCopyWarning: \n",
      "A value is trying to be set on a copy of a slice from a DataFrame.\n",
      "Try using .loc[row_indexer,col_indexer] = value instead\n",
      "\n",
      "See the caveats in the documentation: http://pandas.pydata.org/pandas-docs/stable/user_guide/indexing.html#returning-a-view-versus-a-copy\n",
      "  \"\"\"\n"
     ]
    }
   ],
   "source": [
    "review_2015['count'] = review_2015.groupby(\"month\")[\"reviewer_id\"].transform('count')\n",
    "review_2016['count'] = review_2016.groupby(\"month\")[\"reviewer_id\"].transform('count')\n",
    "review_2017['count'] = review_2017.groupby(\"month\")[\"reviewer_id\"].transform('count')\n",
    "review_2018['count'] = review_2018.groupby(\"month\")[\"reviewer_id\"].transform('count')\n",
    "review_2019['count'] = review_2019.groupby(\"month\")[\"reviewer_id\"].transform('count')"
   ]
  },
  {
   "cell_type": "code",
   "execution_count": 107,
   "metadata": {},
   "outputs": [],
   "source": [
    "dropped = ['reviewer_id']\n",
    "review_2015.drop(dropped,axis = 1,inplace = True)\n",
    "review_2016.drop(dropped,axis = 1,inplace = True)\n",
    "review_2017.drop(dropped,axis = 1,inplace = True)\n",
    "review_2018.drop(dropped,axis = 1,inplace = True)\n",
    "review_2019.drop(dropped,axis = 1,inplace = True)"
   ]
  },
  {
   "cell_type": "code",
   "execution_count": 108,
   "metadata": {},
   "outputs": [],
   "source": [
    "review_2015 = review_2015.drop_duplicates()\n",
    "review_2016 = review_2016.drop_duplicates()\n",
    "review_2017 = review_2017.drop_duplicates()\n",
    "review_2018 = review_2018.drop_duplicates()\n",
    "review_2019 = review_2019.drop_duplicates()"
   ]
  },
  {
   "cell_type": "code",
   "execution_count": 109,
   "metadata": {},
   "outputs": [],
   "source": [
    "review_2015 = review_2015.reset_index(drop = True)\n",
    "review_2016 = review_2016.reset_index(drop = True)\n",
    "review_2017 = review_2017.reset_index(drop = True)\n",
    "review_2018 = review_2018.reset_index(drop = True)\n",
    "review_2019 = review_2019.reset_index(drop = True)"
   ]
  },
  {
   "cell_type": "code",
   "execution_count": 110,
   "metadata": {},
   "outputs": [
    {
     "data": {
      "text/html": [
       "<div>\n",
       "<style scoped>\n",
       "    .dataframe tbody tr th:only-of-type {\n",
       "        vertical-align: middle;\n",
       "    }\n",
       "\n",
       "    .dataframe tbody tr th {\n",
       "        vertical-align: top;\n",
       "    }\n",
       "\n",
       "    .dataframe thead th {\n",
       "        text-align: right;\n",
       "    }\n",
       "</style>\n",
       "<table border=\"1\" class=\"dataframe\">\n",
       "  <thead>\n",
       "    <tr style=\"text-align: right;\">\n",
       "      <th></th>\n",
       "      <th>month</th>\n",
       "      <th>count</th>\n",
       "    </tr>\n",
       "  </thead>\n",
       "  <tbody>\n",
       "    <tr>\n",
       "      <td>0</td>\n",
       "      <td>Jan</td>\n",
       "      <td>3363</td>\n",
       "    </tr>\n",
       "    <tr>\n",
       "      <td>1</td>\n",
       "      <td>Feb</td>\n",
       "      <td>3310</td>\n",
       "    </tr>\n",
       "    <tr>\n",
       "      <td>2</td>\n",
       "      <td>Mar</td>\n",
       "      <td>4076</td>\n",
       "    </tr>\n",
       "    <tr>\n",
       "      <td>3</td>\n",
       "      <td>Apr</td>\n",
       "      <td>4349</td>\n",
       "    </tr>\n",
       "    <tr>\n",
       "      <td>4</td>\n",
       "      <td>May</td>\n",
       "      <td>5797</td>\n",
       "    </tr>\n",
       "    <tr>\n",
       "      <td>5</td>\n",
       "      <td>Jun</td>\n",
       "      <td>5447</td>\n",
       "    </tr>\n",
       "    <tr>\n",
       "      <td>6</td>\n",
       "      <td>Jul</td>\n",
       "      <td>6291</td>\n",
       "    </tr>\n",
       "    <tr>\n",
       "      <td>7</td>\n",
       "      <td>Aug</td>\n",
       "      <td>6352</td>\n",
       "    </tr>\n",
       "    <tr>\n",
       "      <td>8</td>\n",
       "      <td>Sep</td>\n",
       "      <td>7963</td>\n",
       "    </tr>\n",
       "    <tr>\n",
       "      <td>9</td>\n",
       "      <td>Oct</td>\n",
       "      <td>6751</td>\n",
       "    </tr>\n",
       "    <tr>\n",
       "      <td>10</td>\n",
       "      <td>Nov</td>\n",
       "      <td>5310</td>\n",
       "    </tr>\n",
       "    <tr>\n",
       "      <td>11</td>\n",
       "      <td>Dec</td>\n",
       "      <td>4755</td>\n",
       "    </tr>\n",
       "  </tbody>\n",
       "</table>\n",
       "</div>"
      ],
      "text/plain": [
       "   month  count\n",
       "0    Jan   3363\n",
       "1    Feb   3310\n",
       "2    Mar   4076\n",
       "3    Apr   4349\n",
       "4    May   5797\n",
       "5    Jun   5447\n",
       "6    Jul   6291\n",
       "7    Aug   6352\n",
       "8    Sep   7963\n",
       "9    Oct   6751\n",
       "10   Nov   5310\n",
       "11   Dec   4755"
      ]
     },
     "execution_count": 110,
     "metadata": {},
     "output_type": "execute_result"
    }
   ],
   "source": [
    "review_2016"
   ]
  },
  {
   "cell_type": "code",
   "execution_count": 138,
   "metadata": {},
   "outputs": [
    {
     "data": {
      "image/png": "[encoded data removed]",
      "text/plain": [
       "<Figure size 1440x432 with 4 Axes>"
      ]
     },
     "metadata": {
      "needs_background": "light"
     },
     "output_type": "display_data"
    }
   ],
   "source": [
    "fig = plt.figure(figsize=(20,6))\n",
    "ax0 = fig.add_subplot(2,2,1)\n",
    "ax1 = fig.add_subplot(2,2,2)\n",
    "ax2 = fig.add_subplot(2,2,3)\n",
    "ax3 = fig.add_subplot(2,2,4)\n",
    "#ax4 = fig.add_subplot(3,2,5)\n",
    "\n",
    "\n",
    "review_2015.plot(kind='line', color='red', x='month',y='count',marker='o',ax=ax0) \n",
    "ax0.set_title('Visitor Trends in 2015')\n",
    "ax0.set_xlabel('Month')\n",
    "ax0.set_ylabel('Number of visitors')\n",
    "\n",
    "\n",
    "review_2016.plot(kind='line', color='darkorange', x='month',y='count',marker='o',ax=ax1) \n",
    "ax1.set_title('Visitor Trends in 2016')\n",
    "ax1.set_xlabel('Month')\n",
    "ax1.set_ylabel('Number of visitors')\n",
    "\n",
    "\n",
    "review_2017.plot(kind='line', color='navy', x='month',y='count',marker='o',ax=ax2) \n",
    "ax2.set_title('Visitor Trends in 2017')\n",
    "ax2.set_xlabel('Month')\n",
    "ax2.set_ylabel('Number of visitors')\n",
    "\n",
    "\n",
    "review_2018.plot(kind='line', color='green', x='month',y='count',marker='o',ax=ax3) \n",
    "ax3.set_title('Visitor Trends in 2018')\n",
    "ax3.set_xlabel('Month')\n",
    "ax3.set_ylabel('Number of visitors')\n",
    "\n",
    "# review_2019.plot(kind='line', color='red', x='month',y='count',marker='o',ax=ax4) \n",
    "# ax4.set_title('Visitor Trends in 2019')\n",
    "# ax4.set_xlabel('Month')\n",
    "# ax4.set_ylabel('Number of visitors')\n",
    "\n",
    "\n",
    "plt.subplots_adjust(top = 0.99, bottom=0.01, hspace=0.5)\n",
    "plt.show()"
   ]
  },
  {
   "cell_type": "code",
   "execution_count": null,
   "metadata": {},
   "outputs": [],
   "source": []
  },
  {
   "cell_type": "code",
   "execution_count": null,
   "metadata": {},
   "outputs": [],
   "source": []
  },
  {
   "cell_type": "code",
   "execution_count": null,
   "metadata": {},
   "outputs": [],
   "source": []
  }
 ],
 "metadata": {
  "kernelspec": {
   "display_name": "Python 3",
   "language": "python",
   "name": "python3"
  },
  "language_info": {
   "codemirror_mode": {
    "name": "ipython",
    "version": 3
   },
   "file_extension": ".py",
   "mimetype": "text/x-python",
   "name": "python",
   "nbconvert_exporter": "python",
   "pygments_lexer": "ipython3",
   "version": "3.7.4"
  }
 },
 "nbformat": 4,
 "nbformat_minor": 2
}
