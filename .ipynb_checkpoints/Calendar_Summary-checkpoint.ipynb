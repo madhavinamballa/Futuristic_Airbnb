{
 "cells": [
  {
   "cell_type": "markdown",
   "metadata": {},
   "source": [
    "# <ins> Calendar Analysis </ins>"
   ]
  },
  {
   "cell_type": "markdown",
   "metadata": {},
   "source": [
    "<hr> </hr>"
   ]
  },
  {
   "cell_type": "markdown",
   "metadata": {},
   "source": [
    "<b> We have used the Calendar Dataset for predicting the Future Prices </b>"
   ]
  },
  {
   "cell_type": "markdown",
   "metadata": {},
   "source": [
    "Dataset Used : <calendar_summary.csv> --> June 2019 Scrapped Data"
   ]
  },
  {
   "cell_type": "code",
   "execution_count": 1,
   "metadata": {},
   "outputs": [],
   "source": [
    "#Importing Dependencies\n",
    "import pandas as pd\n",
    "import numpy as np\n",
    "import matplotlib.pyplot as plt\n",
    "import requests\n",
    "import time\n",
    "import json\n",
    "import gmaps\n",
    "import seaborn as sns"
   ]
  },
  {
   "cell_type": "code",
   "execution_count": 2,
   "metadata": {},
   "outputs": [
    {
     "name": "stdout",
     "output_type": "stream",
     "text": [
      "1421930496\n"
     ]
    }
   ],
   "source": [
    " import psutil\n",
    "svmem = psutil.virtual_memory()\n",
    "print (svmem.available)"
   ]
  },
  {
   "cell_type": "code",
   "execution_count": 4,
   "metadata": {},
   "outputs": [
    {
     "name": "stderr",
     "output_type": "stream",
     "text": [
      "c:\\users\\saranya\\appdata\\local\\programs\\python\\python37-32\\lib\\site-packages\\numpy\\lib\\arraysetops.py:568: FutureWarning: elementwise comparison failed; returning scalar instead, but in the future will perform elementwise comparison\n",
      "  mask |= (ar1 == a)\n"
     ]
    }
   ],
   "source": [
    "#Reading Files and storing in Dataframes\n",
    "\n",
    "Calendar_Summary = pd.read_csv(\"../Dataset/calendar_summary_062019.csv\",  parse_dates=['date'], index_col='listing_id')\n"
   ]
  },
  {
   "cell_type": "markdown",
   "metadata": {},
   "source": [
    "### <ins> Identifying the Columns </ins>"
   ]
  },
  {
   "cell_type": "markdown",
   "metadata": {},
   "source": [
    "## <ins> Visualizations </ins>"
   ]
  },
  {
   "cell_type": "code",
   "execution_count": 5,
   "metadata": {},
   "outputs": [
    {
     "data": {
      "image/png": "[encoded data removed]",
      "text/plain": [
       "<Figure size 1152x432 with 1 Axes>"
      ]
     },
     "metadata": {
      "needs_background": "light"
     },
     "output_type": "display_data"
    }
   ],
   "source": [
    "plt.figure(figsize=(16,6))\n",
    "\n",
    "Calendar_Summary.date = pd.to_datetime(Calendar_Summary.date)\n",
    "Calendar_Summary.price = Calendar_Summary.price.str[1:-3]\n",
    "Calendar_Summary.price = Calendar_Summary.price.str.replace(\",\", \"\")\n",
    "Calendar_Summary.price = Calendar_Summary.price.astype('int64')\n",
    "sns.boxplot(Calendar_Summary.date.dt.year, np.log(Calendar_Summary.price))\n",
    "plt.xlabel('Date Range', fontsize=12)\n",
    "plt.ylabel('Price (log-transformed)', fontsize=12)\n",
    "plt.title('Price Prediction of Airbnb in Berlin', fontsize=16)\n",
    "plt.savefig(\"Visualizations/Price_Prediction.png\")\n",
    "plt.show()"
   ]
  },
  {
   "cell_type": "code",
   "execution_count": 6,
   "metadata": {},
   "outputs": [
    {
     "name": "stdout",
     "output_type": "stream",
     "text": [
      "date\n",
      "2019-01-01    78.20\n",
      "2020-01-01    81.65\n",
      "Freq: AS-JAN, Name: price, dtype: float64\n"
     ]
    }
   ],
   "source": [
    "print(round(Calendar_Summary.set_index('date').price.resample('YS').mean(),2))"
   ]
  },
  {
   "cell_type": "code",
   "execution_count": null,
   "metadata": {},
   "outputs": [],
   "source": []
  }
 ],
 "metadata": {
  "kernelspec": {
   "display_name": "Python 3",
   "language": "python",
   "name": "python3"
  },
  "language_info": {
   "codemirror_mode": {
    "name": "ipython",
    "version": 3
   },
   "file_extension": ".py",
   "mimetype": "text/x-python",
   "name": "python",
   "nbconvert_exporter": "python",
   "pygments_lexer": "ipython3",
   "version": "3.7.4"
  }
 },
 "nbformat": 4,
 "nbformat_minor": 2
}
